{
 "cells": [
  {
   "cell_type": "code",
   "execution_count": 1,
   "id": "92cc6179",
   "metadata": {},
   "outputs": [],
   "source": [
    "# Importing datasets\n",
    "import pandas as pd\n",
    "\n",
    "ed18 = pd.read_csv('C:/Users/Kenneth/Desktop/18040394_KennethLauKhengSoong_Aug21/System Files/Datasheets/ED18.csv')\n",
    "ed17 = pd.read_csv('C:/Users/Kenneth/Desktop/18040394_KennethLauKhengSoong_Aug21/System Files/Datasheets/ED17.csv')\n",
    "ed16 = pd.read_csv('C:/Users/Kenneth/Desktop/18040394_KennethLauKhengSoong_Aug21/System Files/Datasheets/ED16.csv')\n",
    "ed15 = pd.read_csv('C:/Users/Kenneth/Desktop/18040394_KennethLauKhengSoong_Aug21/System Files/Datasheets/ED15.csv')"
   ]
  },
  {
   "cell_type": "code",
   "execution_count": 2,
   "id": "065f73d7",
   "metadata": {},
   "outputs": [],
   "source": [
    "# Deleting rows based waiting time = 0 (Patients not seen)\n",
    "deleted18 = ed18[ed18['WAITTIME']==0].index\n",
    "deleted17 = ed17[ed17['WAITTIME']==0].index\n",
    "deleted16 = ed16[ed16['WAITTIME']==0].index\n",
    "deleted15 = ed15[ed15['WAITTIME']==0].index\n",
    "\n",
    "ed18.drop(deleted18, inplace=True)\n",
    "ed17.drop(deleted17, inplace=True)\n",
    "ed16.drop(deleted16, inplace=True)\n",
    "ed15.drop(deleted15, inplace=True)"
   ]
  },
  {
   "cell_type": "code",
   "execution_count": 8,
   "id": "c5e23521",
   "metadata": {},
   "outputs": [
    {
     "name": "stdout",
     "output_type": "stream",
     "text": [
      "WAITTIME       19713\n",
      "AGER           19713\n",
      "SEX            19713\n",
      "ARREMS         19713\n",
      "AMBTRANSFER    19713\n",
      "IMMEDR         19713\n",
      "PAINSCALE      19713\n",
      "HOSPCODE       19713\n",
      "PATCODE        19713\n",
      "dtype: int64\n",
      "WAITTIME       16296\n",
      "AGER           16296\n",
      "SEX            16296\n",
      "ARREMS         16296\n",
      "AMBTRANSFER    16296\n",
      "IMMEDR         16296\n",
      "PAINSCALE      16296\n",
      "HOSPCODE       16296\n",
      "PATCODE        16296\n",
      "dtype: int64\n",
      "WAITTIME       18920\n",
      "AGER           18920\n",
      "SEX            18920\n",
      "ARREMS         18920\n",
      "AMBTRANSFER    18920\n",
      "IMMEDR         18920\n",
      "PAINSCALE      18920\n",
      "HOSPCODE       18920\n",
      "PATCODE        18920\n",
      "dtype: int64\n",
      "WAITTIME       20332\n",
      "AGER           20332\n",
      "SEX            20332\n",
      "ARREMS         20332\n",
      "AMBTRANSFER    20332\n",
      "IMMEDR         20332\n",
      "PAINSCALE      20332\n",
      "HOSPCODE       20332\n",
      "PATCODE        20332\n",
      "dtype: int64\n"
     ]
    }
   ],
   "source": [
    "print(ed18.count())\n",
    "print(ed17.count())\n",
    "print(ed16.count())\n",
    "print(ed15.count())"
   ]
  },
  {
   "cell_type": "code",
   "execution_count": 2,
   "id": "38cde3da",
   "metadata": {},
   "outputs": [],
   "source": [
    "# Transforming the value\n",
    "ed18['WAITTIME'] = ed18['WAITTIME'].replace([1], 0)\n",
    "ed18['WAITTIME'] = ed18['WAITTIME'].replace([2], 1)\n",
    "ed18['WAITTIME'] = ed18['WAITTIME'].replace([3], 1)\n",
    "ed17['WAITTIME'] = ed17['WAITTIME'].replace([1], 0)\n",
    "ed17['WAITTIME'] = ed17['WAITTIME'].replace([2], 1)\n",
    "ed17['WAITTIME'] = ed17['WAITTIME'].replace([3], 1)\n",
    "ed16['WAITTIME'] = ed16['WAITTIME'].replace([1], 0)\n",
    "ed16['WAITTIME'] = ed16['WAITTIME'].replace([2], 1)\n",
    "ed16['WAITTIME'] = ed16['WAITTIME'].replace([3], 1)\n",
    "ed15['WAITTIME'] = ed15['WAITTIME'].replace([1], 0)\n",
    "ed15['WAITTIME'] = ed15['WAITTIME'].replace([2], 1)\n",
    "ed15['WAITTIME'] = ed15['WAITTIME'].replace([3], 1)"
   ]
  },
  {
   "cell_type": "code",
   "execution_count": 3,
   "id": "24771311",
   "metadata": {},
   "outputs": [],
   "source": [
    "ed18.to_csv('C:/Users/Kenneth/Desktop/18040394_KennethLauKhengSoong_Aug21/System Files/Datasheets/ED18Binary.csv', index=False)\n",
    "ed17.to_csv('C:/Users/Kenneth/Desktop/18040394_KennethLauKhengSoong_Aug21/System Files/Datasheets/ED17Binary.csv', index=False)\n",
    "ed16.to_csv('C:/Users/Kenneth/Desktop/18040394_KennethLauKhengSoong_Aug21/System Files/Datasheets/ED16Binary.csv', index=False)\n",
    "ed15.to_csv('C:/Users/Kenneth/Desktop/18040394_KennethLauKhengSoong_Aug21/System Files/Datasheets/ED15Binary.csv', index=False)"
   ]
  }
 ],
 "metadata": {
  "kernelspec": {
   "display_name": "Python 3",
   "language": "python",
   "name": "python3"
  },
  "language_info": {
   "codemirror_mode": {
    "name": "ipython",
    "version": 3
   },
   "file_extension": ".py",
   "mimetype": "text/x-python",
   "name": "python",
   "nbconvert_exporter": "python",
   "pygments_lexer": "ipython3",
   "version": "3.8.8"
  }
 },
 "nbformat": 4,
 "nbformat_minor": 5
}
