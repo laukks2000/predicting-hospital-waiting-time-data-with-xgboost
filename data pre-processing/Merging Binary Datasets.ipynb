{
 "cells": [
  {
   "cell_type": "code",
   "execution_count": 1,
   "id": "6cb64aaa",
   "metadata": {},
   "outputs": [
    {
     "name": "stdout",
     "output_type": "stream",
     "text": [
      "20332\n",
      "18920\n",
      "16296\n"
     ]
    }
   ],
   "source": [
    "import pandas as pd\n",
    "\n",
    "#Importing the datasets\n",
    "ed15 = pd.read_csv('C:/Users/Kenneth/Desktop/18040394_KennethLauKhengSoong_Aug21/System Files/Datasheets/ED15Binary.csv')\n",
    "ed16 = pd.read_csv('C:/Users/Kenneth/Desktop/18040394_KennethLauKhengSoong_Aug21/System Files/Datasheets/ED16Binary.csv')\n",
    "ed17 = pd.read_csv('C:/Users/Kenneth/Desktop/18040394_KennethLauKhengSoong_Aug21/System Files/Datasheets/ED17Binary.csv')\n",
    "\n",
    "print(len(ed15))\n",
    "print(len(ed16))\n",
    "print(len(ed17))"
   ]
  },
  {
   "cell_type": "code",
   "execution_count": 2,
   "id": "839bce3c",
   "metadata": {},
   "outputs": [
    {
     "name": "stdout",
     "output_type": "stream",
     "text": [
      "55548\n",
      "           WAITTIME          AGER           SEX        ARREMS   AMBTRANSFER  \\\n",
      "count  55548.000000  55548.000000  55548.000000  55548.000000  55548.000000   \n",
      "mean       0.669907      3.106845      0.453536      0.156261      2.858033   \n",
      "std        0.470251      1.477216      0.497841      0.363106      0.372426   \n",
      "min        0.000000      1.000000      0.000000      0.000000      1.000000   \n",
      "25%        0.000000      2.000000      0.000000      0.000000      3.000000   \n",
      "50%        1.000000      3.000000      0.000000      0.000000      3.000000   \n",
      "75%        1.000000      4.000000      1.000000      0.000000      3.000000   \n",
      "max        1.000000      6.000000      1.000000      1.000000      3.000000   \n",
      "\n",
      "             IMMEDR     PAINSCALE      HOSPCODE       PATCODE  \n",
      "count  55548.000000  55548.000000  55548.000000  55548.000000  \n",
      "mean       3.649744      4.850814    117.236516     50.030748  \n",
      "std        1.091816      3.061449     67.495996     32.649506  \n",
      "min        1.000000      0.000000      1.000000      1.000000  \n",
      "25%        3.000000      3.000000     61.000000     22.000000  \n",
      "50%        4.000000      5.000000    116.000000     46.000000  \n",
      "75%        4.000000      7.000000    176.000000     74.000000  \n",
      "max        7.000000     10.000000    248.000000    213.000000  \n"
     ]
    }
   ],
   "source": [
    "#Merging datasets\n",
    "ed15.reset_index(drop=True, inplace=True)\n",
    "ed16.reset_index(drop=True, inplace=True)\n",
    "ed17.reset_index(drop=True, inplace=True)\n",
    "merged = pd.concat([ed15,ed16,ed17], axis=0, ignore_index=True)\n",
    "\n",
    "print(len(merged))\n",
    "print(merged.describe(include = 'all'))\n",
    "\n",
    "#Output the merged dataset to csv\n",
    "merged.to_csv('C:/Users/Kenneth/Desktop/18040394_KennethLauKhengSoong_Aug21/System Files/Datasheets/PastYearMergedBinary.csv', index=False)"
   ]
  }
 ],
 "metadata": {
  "kernelspec": {
   "display_name": "Python 3",
   "language": "python",
   "name": "python3"
  },
  "language_info": {
   "codemirror_mode": {
    "name": "ipython",
    "version": 3
   },
   "file_extension": ".py",
   "mimetype": "text/x-python",
   "name": "python",
   "nbconvert_exporter": "python",
   "pygments_lexer": "ipython3",
   "version": "3.8.8"
  }
 },
 "nbformat": 4,
 "nbformat_minor": 5
}
