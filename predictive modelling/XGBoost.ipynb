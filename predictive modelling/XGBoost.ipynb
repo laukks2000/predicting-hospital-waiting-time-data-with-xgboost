{
 "cells": [
  {
   "cell_type": "code",
   "execution_count": 1,
   "id": "934899a7",
   "metadata": {},
   "outputs": [],
   "source": [
    "import pandas as pd\n",
    "from xgboost import XGBClassifier\n",
    "from sklearn.metrics import accuracy_score\n",
    "from sklearn.metrics import confusion_matrix\n",
    "\n",
    "# Loading the dataset\n",
    "train_data = pd.read_csv('C:/Users/Kenneth/Desktop/18040394_KennethLauKhengSoong_Aug21/System Files/Datasheets/PastYearMergedBinary.csv')\n",
    "test_data = pd.read_csv('C:/Users/Kenneth/Desktop/18040394_KennethLauKhengSoong_Aug21/System Files/Datasheets/ED18Binary.csv')"
   ]
  },
  {
   "cell_type": "code",
   "execution_count": 2,
   "id": "1d74a8d0",
   "metadata": {},
   "outputs": [
    {
     "name": "stdout",
     "output_type": "stream",
     "text": [
      "Training Dataset\n",
      "            WAITTIME          AGER           SEX        ARREMS   AMBTRANSFER  \\\n",
      "count  55548.000000  55548.000000  55548.000000  55548.000000  55548.000000   \n",
      "mean       0.669907      3.106845      0.453536      0.156261      2.858033   \n",
      "std        0.470251      1.477216      0.497841      0.363106      0.372426   \n",
      "min        0.000000      1.000000      0.000000      0.000000      1.000000   \n",
      "25%        0.000000      2.000000      0.000000      0.000000      3.000000   \n",
      "50%        1.000000      3.000000      0.000000      0.000000      3.000000   \n",
      "75%        1.000000      4.000000      1.000000      0.000000      3.000000   \n",
      "max        1.000000      6.000000      1.000000      1.000000      3.000000   \n",
      "\n",
      "             IMMEDR     PAINSCALE      HOSPCODE       PATCODE  \n",
      "count  55548.000000  55548.000000  55548.000000  55548.000000  \n",
      "mean       3.649744      4.850814    117.236516     50.030748  \n",
      "std        1.091816      3.061449     67.495996     32.649506  \n",
      "min        1.000000      0.000000      1.000000      1.000000  \n",
      "25%        3.000000      3.000000     61.000000     22.000000  \n",
      "50%        4.000000      5.000000    116.000000     46.000000  \n",
      "75%        4.000000      7.000000    176.000000     74.000000  \n",
      "max        7.000000     10.000000    248.000000    213.000000  \n",
      "\n",
      "Test Dataset\n",
      "            WAITTIME          AGER           SEX        ARREMS   AMBTRANSFER  \\\n",
      "count  19713.000000  19713.000000  19713.000000  19713.000000  19713.000000   \n",
      "mean       0.647136      3.163598      0.452240      0.163648      2.847816   \n",
      "std        0.477873      1.504717      0.497726      0.369966      0.386292   \n",
      "min        0.000000      1.000000      0.000000      0.000000      1.000000   \n",
      "25%        0.000000      2.000000      0.000000      0.000000      3.000000   \n",
      "50%        1.000000      3.000000      0.000000      0.000000      3.000000   \n",
      "75%        1.000000      4.000000      1.000000      0.000000      3.000000   \n",
      "max        1.000000      6.000000      1.000000      1.000000      3.000000   \n",
      "\n",
      "             IMMEDR     PAINSCALE      HOSPCODE       PATCODE  \n",
      "count  19713.000000  19713.000000  19713.000000  19713.000000  \n",
      "mean       3.580683      4.488054    115.968194     50.747578  \n",
      "std        1.123148      3.012735     66.058031     33.621408  \n",
      "min        1.000000      0.000000      1.000000      1.000000  \n",
      "25%        3.000000      3.000000     59.000000     23.000000  \n",
      "50%        3.000000      5.000000    116.000000     47.000000  \n",
      "75%        4.000000      6.000000    173.000000     74.000000  \n",
      "max        7.000000     10.000000    229.000000    197.000000  \n"
     ]
    }
   ],
   "source": [
    "# Printing the descriptive analysis for both training and testing dataset\n",
    "print('Training Dataset\\n', train_data.describe())\n",
    "print('\\nTest Dataset\\n', test_data.describe())"
   ]
  },
  {
   "cell_type": "code",
   "execution_count": 3,
   "id": "b5ce142a",
   "metadata": {},
   "outputs": [],
   "source": [
    "# Excluding irrelevant variables from both training and testing dataset\n",
    "train_data.drop(['HOSPCODE','PATCODE','SEX'], axis=1, inplace=True)\n",
    "test_data.drop(['HOSPCODE','PATCODE','SEX'], axis=1, inplace=True)"
   ]
  },
  {
   "cell_type": "code",
   "execution_count": 4,
   "id": "815c2640",
   "metadata": {},
   "outputs": [
    {
     "name": "stdout",
     "output_type": "stream",
     "text": [
      "   WAITTIME  AGER  ARREMS  AMBTRANSFER  IMMEDR  PAINSCALE\n",
      "0       1.0   3.0     0.0          3.0     4.0       10.0\n",
      "1       1.0   4.0     1.0          2.0     4.0        3.0\n",
      "2       1.0   4.0     1.0          2.0     3.0        8.0\n",
      "3       1.0   3.0     0.0          3.0     4.0        7.0\n",
      "4       0.0   3.0     0.0          3.0     4.0        5.0\n",
      "   WAITTIME  AGER  ARREMS  AMBTRANSFER  IMMEDR  PAINSCALE\n",
      "0       1.0   1.0     0.0          3.0     4.0        0.0\n",
      "1       1.0   1.0     0.0          3.0     4.0        6.0\n",
      "2       1.0   1.0     0.0          3.0     4.0        4.0\n",
      "3       1.0   2.0     0.0          3.0     4.0       10.0\n",
      "4       1.0   3.0     0.0          3.0     4.0       10.0\n"
     ]
    }
   ],
   "source": [
    "# Displaying the first 5 records for both dataset before implementing XGBoost\n",
    "print(train_data.head(5))\n",
    "print(test_data.head(5))"
   ]
  },
  {
   "cell_type": "code",
   "execution_count": 5,
   "id": "c5f7d074",
   "metadata": {},
   "outputs": [],
   "source": [
    "# Determining the target variable\n",
    "train_x = train_data.drop(columns=['WAITTIME'], axis=1)\n",
    "train_y = train_data['WAITTIME']\n",
    "\n",
    "test_x = test_data.drop(columns=['WAITTIME'], axis=1)\n",
    "test_y = test_data['WAITTIME']"
   ]
  },
  {
   "cell_type": "code",
   "execution_count": 6,
   "id": "c2ab5118",
   "metadata": {},
   "outputs": [
    {
     "data": {
      "text/plain": [
       "XGBClassifier(base_score=0.5, booster='gbtree', colsample_bylevel=1,\n",
       "              colsample_bynode=1, colsample_bytree=0.8,\n",
       "              enable_categorical=False, eval_metric='auc', gamma=0, gpu_id=-1,\n",
       "              importance_type=None, interaction_constraints='',\n",
       "              learning_rate=0.05, max_delta_step=0, max_depth=6,\n",
       "              min_child_weight=3, missing=nan, monotone_constraints='()',\n",
       "              n_estimators=5000, n_jobs=12, num_parallel_tree=1,\n",
       "              predictor='auto', random_state=20, reg_alpha=0, reg_lambda=1,\n",
       "              scale_pos_weight=1, seed=20, subsample=0.8, tree_method='hist',\n",
       "              use_label_encoder=False, validate_parameters=1, ...)"
      ]
     },
     "execution_count": 6,
     "metadata": {},
     "output_type": "execute_result"
    }
   ],
   "source": [
    "# Initiating the XGBoost model for classification\n",
    "model = XGBClassifier(learning_rate=0.05,\n",
    "                      n_estimators=5000,\n",
    "                      max_depth=6,\n",
    "                      min_child_weight=3,\n",
    "                      gamma=0,\n",
    "                      subsample=0.8,\n",
    "                      colsample_bytree=0.8,\n",
    "                      scale_pos_weight=1,\n",
    "                      tree_method='hist',\n",
    "                      seed=20,\n",
    "                      eval_metric='auc',\n",
    "                      use_label_encoder=False)\n",
    "\n",
    "# Fitting the training dataset onto the model\n",
    "model.fit(train_x, train_y)"
   ]
  },
  {
   "cell_type": "code",
   "execution_count": 7,
   "id": "e1725e3e",
   "metadata": {},
   "outputs": [
    {
     "name": "stdout",
     "output_type": "stream",
     "text": [
      "\n",
      "Target on train data [1 1 1 ... 1 1 0]\n",
      "\n",
      "Accuracy score on train dataset:  0.677198098941456\n"
     ]
    }
   ],
   "source": [
    "# Using the data from the training dataset to train and predict the accuracy for training dataset\n",
    "predict_train = model.predict(train_x)\n",
    "print('\\nTarget on train data', predict_train)\n",
    "\n",
    "accuracy_train = accuracy_score(train_y, predict_train)\n",
    "print('\\nAccuracy score on train dataset: ', accuracy_train)"
   ]
  },
  {
   "cell_type": "code",
   "execution_count": 8,
   "id": "858bd5f2",
   "metadata": {},
   "outputs": [
    {
     "name": "stdout",
     "output_type": "stream",
     "text": [
      "\n",
      "Target on test data [1 1 1 ... 1 1 1]\n",
      "\n",
      "Accuracy score on test dataset:  0.6459696646882768\n"
     ]
    }
   ],
   "source": [
    "# Using the data from the training dataset to train and predict the accuracy for the test dataset\n",
    "predict_test = model.predict(test_x)\n",
    "print('\\nTarget on test data', predict_test)\n",
    "\n",
    "accuracy_test = accuracy_score(test_y, predict_test)\n",
    "print('\\nAccuracy score on test dataset: ', accuracy_test)"
   ]
  },
  {
   "cell_type": "code",
   "execution_count": 11,
   "id": "4d04d49d",
   "metadata": {
    "scrolled": true
   },
   "outputs": [],
   "source": [
    "cm = confusion_matrix(test_y, predict_test)"
   ]
  },
  {
   "cell_type": "code",
   "execution_count": 12,
   "id": "0579801a",
   "metadata": {},
   "outputs": [
    {
     "data": {
      "image/png": "[encoded data removed]",
      "text/plain": [
       "<Figure size 432x288 with 2 Axes>"
      ]
     },
     "metadata": {
      "needs_background": "light"
     },
     "output_type": "display_data"
    }
   ],
   "source": [
    "import seaborn as sns\n",
    "import matplotlib.pyplot as plt     \n",
    "\n",
    "ax= plt.subplot()\n",
    "sns.heatmap(cm, annot=True, fmt='g', ax=ax);\n",
    "\n",
    "# labels, title and ticks\n",
    "ax.set_xlabel('Predicted labels');ax.set_ylabel('True labels'); \n",
    "ax.set_title('Confusion Matrix'); \n",
    "ax.xaxis.set_ticklabels(['SHORT', 'LONG']); ax.yaxis.set_ticklabels(['LONG', 'SHORT']);"
   ]
  }
 ],
 "metadata": {
  "kernelspec": {
   "display_name": "Python 3",
   "language": "python",
   "name": "python3"
  },
  "language_info": {
   "codemirror_mode": {
    "name": "ipython",
    "version": 3
   },
   "file_extension": ".py",
   "mimetype": "text/x-python",
   "name": "python",
   "nbconvert_exporter": "python",
   "pygments_lexer": "ipython3",
   "version": "3.8.8"
  }
 },
 "nbformat": 4,
 "nbformat_minor": 5
}
